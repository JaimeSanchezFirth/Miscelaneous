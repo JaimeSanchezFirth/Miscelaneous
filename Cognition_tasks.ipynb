{
  "nbformat": 4,
  "nbformat_minor": 0,
  "metadata": {
    "colab": {
      "provenance": [],
      "authorship_tag": "ABX9TyOkaj4K16so/zzqzgbY7Wfm",
      "include_colab_link": true
    },
    "kernelspec": {
      "name": "python3",
      "display_name": "Python 3"
    },
    "language_info": {
      "name": "python"
    }
  },
  "cells": [
    {
      "cell_type": "markdown",
      "metadata": {
        "id": "view-in-github",
        "colab_type": "text"
      },
      "source": [
        "<a href=\"https://colab.research.google.com/github/JaimeSanchezFirth/Miscelaneous/blob/main/Cognition_tasks.ipynb\" target=\"_parent\"><img src=\"https://colab.research.google.com/assets/colab-badge.svg\" alt=\"Open In Colab\"/></a>"
      ]
    },
    {
      "cell_type": "code",
      "execution_count": 29,
      "metadata": {
        "id": "Oh_QtFds4--p",
        "outputId": "efbd665d-7063-4489-a7b1-6857ca491fe5",
        "colab": {
          "base_uri": "https://localhost:8080/"
        }
      },
      "outputs": [
        {
          "output_type": "stream",
          "name": "stdout",
          "text": [
            "DS - Cluster 1\n",
            "Spatial Span - Cluster 3\n",
            "PAL - Cluster 3\n",
            "RVP - Cluster 3\n",
            "DSST - Cluster 1\n",
            "SWM - Cluster 3\n",
            "MWM - Cluster 3\n",
            "RAVLT - Cluster 2\n",
            "ROCF - Cluster 1\n",
            "N-Back - Cluster 1\n",
            "ACT - Cluster 3\n",
            "ToL - Cluster 1\n",
            "WCST - Cluster 3\n",
            "GNGT - Cluster 1\n",
            "OCL - Cluster 3\n",
            "FAS - Cluster 1\n",
            "d2 - Cluster 3\n",
            "5DT - Cluster 3\n",
            "SCWT - Cluster 2\n",
            "TMT - Cluster 2\n"
          ]
        },
        {
          "output_type": "stream",
          "name": "stderr",
          "text": [
            "/usr/local/lib/python3.10/dist-packages/sklearn/cluster/_kmeans.py:870: FutureWarning: The default value of `n_init` will change from 10 to 'auto' in 1.4. Set the value of `n_init` explicitly to suppress the warning\n",
            "  warnings.warn(\n"
          ]
        }
      ],
      "source": [
        "import numpy as np\n",
        "from sklearn.cluster import KMeans\n",
        "\n",
        "# Number of succesful publications + clinical studies (numPub)\n",
        "numPub = np.array([[4], [1], [0], [0], [3], [1], [1], [6], [2], [2], [1], [2], [1], [2], [1], [2], [1], [1], [6], [8]])\n",
        "\n",
        "# Apply K-means clustering with K=3. The clusters represent the relevance of the task in FM (3='High', 2='Medium', 1='Low')\n",
        "#https://www.iebschool.com/blog/algoritmo-k-means-que-es-y-como-funciona-big-data/\n",
        "kmeans = KMeans(n_clusters=3, random_state=10).fit(numPub.reshape(-1,1))\n",
        "clusters = kmeans.predict(numPub)\n",
        "tasks = ['DS', 'Spatial Span', 'PAL', 'RVP', 'DSST', 'SWM', 'MWM', 'RAVLT', 'ROCF', 'N-Back', 'ACT', 'ToL', 'WCST', 'GNGT', 'OCL', 'FAS', 'd2', '5DT','SCWT', 'TMT',]\n",
        "for i, tasks in enumerate(tasks):\n",
        "  #Print the different clusters\n",
        "    print(f\"{tasks} - Cluster {clusters[i] + 1}\")"
      ]
    },
    {
      "cell_type": "code",
      "source": [
        "import numpy as np\n",
        "from sklearn.cluster import AffinityPropagation\n",
        "\n",
        "# Number of succesful publications + clinical studies (numPub)\n",
        "numPub = np.array([[6], [8], [4], [1], [0], [0], [3], [1], [1], [6], [2], [2], [1], [2], [1], [2], [1], [2], [1], [1]])\n",
        "\n",
        "# Apply K-means clustering with K=3. The clusters represent the relevance of the task in FM (3='High', 2='Medium', 1='Low')\n",
        "#https://www.iebschool.com/blog/algoritmo-k-means-que-es-y-como-funciona-big-data/\n",
        "ap = AffinityPropagation().fit(numPub)\n",
        "clusters = ap.predict(numPub)\n",
        "tasks = ['SCWT', 'TMT', 'DS', 'Spatial Span', 'PAL', 'RVP', 'DSST', 'SWM', 'MWM', 'RAVLT', 'ROCF', 'N-Back', 'ACT', 'ToL', 'WCST', 'GNGT', 'OCL', 'FAS', 'd2', '5DT']\n",
        "for i, tasks in enumerate(tasks):\n",
        "  #Print the different clusters\n",
        "    print(f\"{tasks} - Cluster {clusters[i] + 1}\")"
      ],
      "metadata": {
        "colab": {
          "base_uri": "https://localhost:8080/"
        },
        "id": "EAQdW_FXrWRe",
        "outputId": "8c4649fc-7b0a-4b0b-fca8-143b2450c90f"
      },
      "execution_count": 11,
      "outputs": [
        {
          "output_type": "stream",
          "name": "stdout",
          "text": [
            "SCWT - Cluster 1\n",
            "TMT - Cluster 2\n",
            "DS - Cluster 3\n",
            "Spatial Span - Cluster 4\n",
            "PAL - Cluster 4\n",
            "RVP - Cluster 4\n",
            "DSST - Cluster 3\n",
            "SWM - Cluster 4\n",
            "MWM - Cluster 4\n",
            "RAVLT - Cluster 1\n",
            "ROCF - Cluster 5\n",
            "N-Back - Cluster 5\n",
            "ACT - Cluster 4\n",
            "ToL - Cluster 5\n",
            "WCST - Cluster 4\n",
            "GNGT - Cluster 5\n",
            "OCL - Cluster 4\n",
            "FAS - Cluster 5\n",
            "d2 - Cluster 4\n",
            "5DT - Cluster 4\n"
          ]
        },
        {
          "output_type": "stream",
          "name": "stderr",
          "text": [
            "/usr/local/lib/python3.10/dist-packages/sklearn/cluster/_affinity_propagation.py:143: ConvergenceWarning: Affinity propagation did not converge, this model may return degenerate cluster centers and labels.\n",
            "  warnings.warn(\n"
          ]
        }
      ]
    },
    {
      "cell_type": "code",
      "source": [
        "import numpy as np\n",
        "from sklearn.cluster import KMeans\n",
        "\n",
        "# Number of succesful publications + clinical studies (numPub)\n",
        "numPub = np.array([[4], [1], [0], [0], [3], [1], [1], [6], [2], [2], [1], [2], [1], [2], [1], [2], [1], [1], [6], [8]])\n",
        "\n",
        "# Apply K-means clustering with K=3. The clusters represent the relevance of the task in FM (3='High', 2='Medium', 1='Low')\n",
        "#https://www.iebschool.com/blog/algoritmo-k-means-que-es-y-como-funciona-big-data/\n",
        "\n",
        "kmeans = KMeans(n_clusters=3).fit(numPub.reshape(-1,1))\n",
        "clusters = kmeans.predict(numPub)\n",
        "\n",
        "tasks = ['DS', 'Spatial Span', 'PAL', 'RVP', 'DSST', 'SWM', 'MWM', 'RAVLT', 'ROCF', 'N-Back', 'ACT', 'ToL', 'WCST', 'GNGT', 'OCL', 'FAS', 'd2', '5DT','SCWT', 'TMT',]\n",
        "for i, tasks in enumerate(tasks):\n",
        "  #Print the different clusters\n",
        "    print(f\"{tasks} - Cluster {clusters[i] + 1}\")"
      ],
      "metadata": {
        "id": "UZ4VRWyotNpV",
        "outputId": "0817c44c-b74c-47d8-bbb6-16306040f90a",
        "colab": {
          "base_uri": "https://localhost:8080/"
        }
      },
      "execution_count": 1,
      "outputs": [
        {
          "output_type": "stream",
          "name": "stdout",
          "text": [
            "DS - Cluster 3\n",
            "Spatial Span - Cluster 2\n",
            "PAL - Cluster 2\n",
            "RVP - Cluster 2\n",
            "DSST - Cluster 3\n",
            "SWM - Cluster 2\n",
            "MWM - Cluster 2\n",
            "RAVLT - Cluster 1\n",
            "ROCF - Cluster 3\n",
            "N-Back - Cluster 3\n",
            "ACT - Cluster 2\n",
            "ToL - Cluster 3\n",
            "WCST - Cluster 2\n",
            "GNGT - Cluster 3\n",
            "OCL - Cluster 2\n",
            "FAS - Cluster 3\n",
            "d2 - Cluster 2\n",
            "5DT - Cluster 2\n",
            "SCWT - Cluster 1\n",
            "TMT - Cluster 1\n"
          ]
        },
        {
          "output_type": "stream",
          "name": "stderr",
          "text": [
            "/usr/local/lib/python3.10/dist-packages/sklearn/cluster/_kmeans.py:870: FutureWarning: The default value of `n_init` will change from 10 to 'auto' in 1.4. Set the value of `n_init` explicitly to suppress the warning\n",
            "  warnings.warn(\n"
          ]
        }
      ]
    },
    {
      "cell_type": "code",
      "source": [],
      "metadata": {
        "id": "GKwdDF63xGcj"
      },
      "execution_count": null,
      "outputs": []
    }
  ]
}